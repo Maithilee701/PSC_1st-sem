{
 "cells": [
  {
   "cell_type": "code",
   "execution_count": 1,
   "id": "40c09655-a386-468b-9c62-8b5b36fb0d99",
   "metadata": {},
   "outputs": [],
   "source": [
    "name = \"Siddhi Banthiya\""
   ]
  },
  {
   "cell_type": "code",
   "execution_count": 2,
   "id": "25c4e7ec-6503-465d-ba33-8fc23067af0c",
   "metadata": {},
   "outputs": [
    {
     "data": {
      "text/plain": [
       "'Siddhi Banthiya'"
      ]
     },
     "execution_count": 2,
     "metadata": {},
     "output_type": "execute_result"
    }
   ],
   "source": [
    "name"
   ]
  },
  {
   "cell_type": "code",
   "execution_count": 4,
   "id": "a2d739cd-aac5-4517-8397-67389a976636",
   "metadata": {},
   "outputs": [
    {
     "data": {
      "text/plain": [
       "'SIDDHI BANTHIYA'"
      ]
     },
     "execution_count": 4,
     "metadata": {},
     "output_type": "execute_result"
    }
   ],
   "source": [
    "#Convert it into capslock\n",
    "name.upper()"
   ]
  },
  {
   "cell_type": "code",
   "execution_count": 9,
   "id": "e468a469-a6e8-40f7-aab5-169aac388469",
   "metadata": {},
   "outputs": [
    {
     "data": {
      "text/plain": [
       "'siddhi banthiya'"
      ]
     },
     "execution_count": 9,
     "metadata": {},
     "output_type": "execute_result"
    }
   ],
   "source": [
    "name.lower()"
   ]
  },
  {
   "cell_type": "code",
   "execution_count": 10,
   "id": "1b620ff1-6989-4564-b385-326a6c360dd1",
   "metadata": {},
   "outputs": [],
   "source": [
    "name= name.upper()"
   ]
  },
  {
   "cell_type": "code",
   "execution_count": 11,
   "id": "c46c902e-8d09-40b1-90ce-1edc2a13107d",
   "metadata": {},
   "outputs": [
    {
     "data": {
      "text/plain": [
       "'SIDDHI BANTHIYA'"
      ]
     },
     "execution_count": 11,
     "metadata": {},
     "output_type": "execute_result"
    }
   ],
   "source": [
    "name"
   ]
  },
  {
   "cell_type": "code",
   "execution_count": 12,
   "id": "d6453adc-e068-497b-8a04-659a28363f52",
   "metadata": {},
   "outputs": [
    {
     "data": {
      "text/plain": [
       "'siddhi banthiya'"
      ]
     },
     "execution_count": 12,
     "metadata": {},
     "output_type": "execute_result"
    }
   ],
   "source": [
    "name.lower()"
   ]
  },
  {
   "cell_type": "code",
   "execution_count": 13,
   "id": "ce84d5f5-7e84-4d01-a324-2d79c5a3c471",
   "metadata": {},
   "outputs": [
    {
     "data": {
      "text/plain": [
       "'SIDDHI BANTHIYA'"
      ]
     },
     "execution_count": 13,
     "metadata": {},
     "output_type": "execute_result"
    }
   ],
   "source": [
    "name"
   ]
  },
  {
   "cell_type": "code",
   "execution_count": 15,
   "id": "309fdd9c-8f9e-436a-a262-e88a252004f0",
   "metadata": {},
   "outputs": [],
   "source": [
    "name = name.lower()"
   ]
  },
  {
   "cell_type": "code",
   "execution_count": 16,
   "id": "a498ce32-2066-4f11-9107-45db873c594f",
   "metadata": {},
   "outputs": [
    {
     "data": {
      "text/plain": [
       "'siddhi banthiya'"
      ]
     },
     "execution_count": 16,
     "metadata": {},
     "output_type": "execute_result"
    }
   ],
   "source": [
    "name"
   ]
  },
  {
   "cell_type": "code",
   "execution_count": 19,
   "id": "3604bf89-4398-4786-bd59-378360df9e51",
   "metadata": {},
   "outputs": [],
   "source": [
    "name1= \"KUnAL bHanDarI\""
   ]
  },
  {
   "cell_type": "code",
   "execution_count": 20,
   "id": "509f8832-fbf0-4dde-b50e-29eabc60f646",
   "metadata": {},
   "outputs": [
    {
     "data": {
      "text/plain": [
       "'KUnAL bHanDarI'"
      ]
     },
     "execution_count": 20,
     "metadata": {},
     "output_type": "execute_result"
    }
   ],
   "source": [
    "name1"
   ]
  },
  {
   "cell_type": "code",
   "execution_count": 21,
   "id": "0dbaef2c-3dde-463f-b8e9-cfe244425221",
   "metadata": {},
   "outputs": [],
   "source": [
    "#capital letter should become small and vice cersa"
   ]
  },
  {
   "cell_type": "code",
   "execution_count": 22,
   "id": "7e280f15-727b-4a9c-96aa-9b33630d7981",
   "metadata": {},
   "outputs": [
    {
     "data": {
      "text/plain": [
       "'kuNal BhANdARi'"
      ]
     },
     "execution_count": 22,
     "metadata": {},
     "output_type": "execute_result"
    }
   ],
   "source": [
    "name1.swapcase()"
   ]
  },
  {
   "cell_type": "code",
   "execution_count": 23,
   "id": "1c4799fd-e249-414f-9c1c-3d2adf3243b5",
   "metadata": {},
   "outputs": [],
   "source": [
    "name2= \"        Vaibhavi Jadhav           \""
   ]
  },
  {
   "cell_type": "code",
   "execution_count": 24,
   "id": "7369286d-b00d-4008-8b43-10e280a09ead",
   "metadata": {},
   "outputs": [
    {
     "data": {
      "text/plain": [
       "'        Vaibhavi Jadhav           '"
      ]
     },
     "execution_count": 24,
     "metadata": {},
     "output_type": "execute_result"
    }
   ],
   "source": [
    "name2"
   ]
  },
  {
   "cell_type": "code",
   "execution_count": 27,
   "id": "fba77d5f-d8d1-4d55-9bc6-c1d5ce46b95e",
   "metadata": {},
   "outputs": [],
   "source": [
    "#1. remove left space\n",
    "#2. remove right space\n",
    "#3. remove both left and right space\n"
   ]
  },
  {
   "cell_type": "code",
   "execution_count": 28,
   "id": "48ced862-d213-43b1-97fa-d48aa5dbcd88",
   "metadata": {},
   "outputs": [
    {
     "data": {
      "text/plain": [
       "'Vaibhavi Jadhav           '"
      ]
     },
     "execution_count": 28,
     "metadata": {},
     "output_type": "execute_result"
    }
   ],
   "source": [
    "name2.lstrip()"
   ]
  },
  {
   "cell_type": "code",
   "execution_count": 29,
   "id": "7e554a33-7555-4457-a8f2-8fcba925bf6d",
   "metadata": {},
   "outputs": [
    {
     "data": {
      "text/plain": [
       "'        Vaibhavi Jadhav'"
      ]
     },
     "execution_count": 29,
     "metadata": {},
     "output_type": "execute_result"
    }
   ],
   "source": [
    "name2.rstrip()"
   ]
  },
  {
   "cell_type": "code",
   "execution_count": 30,
   "id": "95a4db8a-5f77-4216-876a-ce7d85b227ee",
   "metadata": {},
   "outputs": [
    {
     "data": {
      "text/plain": [
       "'Vaibhavi Jadhav'"
      ]
     },
     "execution_count": 30,
     "metadata": {},
     "output_type": "execute_result"
    }
   ],
   "source": [
    "name2.strip()"
   ]
  },
  {
   "cell_type": "code",
   "execution_count": 32,
   "id": "ffd8e574-7433-401a-8334-747ccd206c6f",
   "metadata": {},
   "outputs": [],
   "source": [
    "name3= \"Tanuja Bardiya\""
   ]
  },
  {
   "cell_type": "code",
   "execution_count": 36,
   "id": "5843e8f8-25ef-4039-b90e-98324d5757f3",
   "metadata": {},
   "outputs": [
    {
     "data": {
      "text/plain": [
       "'Tanuja Bardiya'"
      ]
     },
     "execution_count": 36,
     "metadata": {},
     "output_type": "execute_result"
    }
   ],
   "source": [
    "name3"
   ]
  },
  {
   "cell_type": "code",
   "execution_count": 37,
   "id": "a19dfbc5-2698-435a-a29a-310c1cdaf1b8",
   "metadata": {},
   "outputs": [
    {
     "data": {
      "text/plain": [
       "'*************Tanuja Bardiya*************'"
      ]
     },
     "execution_count": 37,
     "metadata": {},
     "output_type": "execute_result"
    }
   ],
   "source": [
    "name3.center(40,'*')"
   ]
  },
  {
   "cell_type": "code",
   "execution_count": 38,
   "id": "d5e951d2-aea4-41c2-aff2-92a1eee14667",
   "metadata": {},
   "outputs": [],
   "source": [
    "name4= \"Gaurav Solanki\""
   ]
  },
  {
   "cell_type": "code",
   "execution_count": 39,
   "id": "d1a8af2a-08ab-40a8-a31a-aaaa61bd3d19",
   "metadata": {},
   "outputs": [
    {
     "data": {
      "text/plain": [
       "'Gaurav Solanki'"
      ]
     },
     "execution_count": 39,
     "metadata": {},
     "output_type": "execute_result"
    }
   ],
   "source": [
    "name4"
   ]
  },
  {
   "cell_type": "code",
   "execution_count": 40,
   "id": "bf2f8cc9-fa56-4c07-bd50-60c6d5889e67",
   "metadata": {},
   "outputs": [
    {
     "data": {
      "text/plain": [
       "False"
      ]
     },
     "execution_count": 40,
     "metadata": {},
     "output_type": "execute_result"
    }
   ],
   "source": [
    "name4.islower()"
   ]
  },
  {
   "cell_type": "code",
   "execution_count": 41,
   "id": "7c082a7e-911a-4fdd-a169-79755ccfc502",
   "metadata": {},
   "outputs": [],
   "source": [
    "name5= \"gaurav\""
   ]
  },
  {
   "cell_type": "code",
   "execution_count": 42,
   "id": "f39a7463-0f29-4e94-84e4-563a48689dc7",
   "metadata": {},
   "outputs": [
    {
     "data": {
      "text/plain": [
       "'gaurav'"
      ]
     },
     "execution_count": 42,
     "metadata": {},
     "output_type": "execute_result"
    }
   ],
   "source": [
    "name5"
   ]
  },
  {
   "cell_type": "code",
   "execution_count": 43,
   "id": "97dab88a-52a7-4877-8720-b59ca02e765e",
   "metadata": {},
   "outputs": [
    {
     "data": {
      "text/plain": [
       "True"
      ]
     },
     "execution_count": 43,
     "metadata": {},
     "output_type": "execute_result"
    }
   ],
   "source": [
    "name5.islower()"
   ]
  },
  {
   "cell_type": "code",
   "execution_count": 44,
   "id": "caa11af6-8d0a-4ea4-8de6-f31d26b75e6c",
   "metadata": {},
   "outputs": [
    {
     "data": {
      "text/plain": [
       "False"
      ]
     },
     "execution_count": 44,
     "metadata": {},
     "output_type": "execute_result"
    }
   ],
   "source": [
    "name4.isupper()"
   ]
  },
  {
   "cell_type": "code",
   "execution_count": 45,
   "id": "042b5135-1bb4-4fd7-b242-bd4b204805f3",
   "metadata": {},
   "outputs": [
    {
     "data": {
      "text/plain": [
       "False"
      ]
     },
     "execution_count": 45,
     "metadata": {},
     "output_type": "execute_result"
    }
   ],
   "source": [
    "name5.isupper()"
   ]
  },
  {
   "cell_type": "code",
   "execution_count": 46,
   "id": "639125da-b314-4f83-8748-d1fe3c9d476a",
   "metadata": {},
   "outputs": [],
   "source": [
    "name5= \"GAURAV\""
   ]
  },
  {
   "cell_type": "code",
   "execution_count": 47,
   "id": "de6c89eb-080f-4fd2-a22f-f13cb7b1c66e",
   "metadata": {},
   "outputs": [
    {
     "data": {
      "text/plain": [
       "True"
      ]
     },
     "execution_count": 47,
     "metadata": {},
     "output_type": "execute_result"
    }
   ],
   "source": [
    "name5.isupper()"
   ]
  },
  {
   "cell_type": "code",
   "execution_count": 48,
   "id": "af8140ec-3d6f-4981-9829-9fb70e22542d",
   "metadata": {},
   "outputs": [
    {
     "data": {
      "text/plain": [
       "'Gaurav Solanki'"
      ]
     },
     "execution_count": 48,
     "metadata": {},
     "output_type": "execute_result"
    }
   ],
   "source": [
    "name4"
   ]
  },
  {
   "cell_type": "code",
   "execution_count": 49,
   "id": "2a6d6c2a-a008-4f4d-be85-db02c73be38e",
   "metadata": {},
   "outputs": [],
   "source": [
    "a= \"      \""
   ]
  },
  {
   "cell_type": "code",
   "execution_count": 50,
   "id": "11492885-1c70-4980-b003-ee69a7d347ac",
   "metadata": {},
   "outputs": [
    {
     "data": {
      "text/plain": [
       "True"
      ]
     },
     "execution_count": 50,
     "metadata": {},
     "output_type": "execute_result"
    }
   ],
   "source": [
    "a.isspace()"
   ]
  },
  {
   "cell_type": "code",
   "execution_count": null,
   "id": "7efb29a6-b5d7-4549-bed7-1d7a26a5d217",
   "metadata": {},
   "outputs": [],
   "source": []
  }
 ],
 "metadata": {
  "kernelspec": {
   "display_name": "Python 3 (ipykernel)",
   "language": "python",
   "name": "python3"
  },
  "language_info": {
   "codemirror_mode": {
    "name": "ipython",
    "version": 3
   },
   "file_extension": ".py",
   "mimetype": "text/x-python",
   "name": "python",
   "nbconvert_exporter": "python",
   "pygments_lexer": "ipython3",
   "version": "3.12.4"
  }
 },
 "nbformat": 4,
 "nbformat_minor": 5
}
