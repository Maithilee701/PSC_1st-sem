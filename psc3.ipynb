{
 "cells": [
  {
   "cell_type": "code",
   "execution_count": 1,
   "id": "20e41a37-4b03-41d2-b8f4-01ff1ef5e9da",
   "metadata": {},
   "outputs": [],
   "source": [
    "l = []"
   ]
  },
  {
   "cell_type": "code",
   "execution_count": 2,
   "id": "be5683e2-b455-4365-a5cf-a75a8ae17721",
   "metadata": {},
   "outputs": [
    {
     "data": {
      "text/plain": [
       "list"
      ]
     },
     "execution_count": 2,
     "metadata": {},
     "output_type": "execute_result"
    }
   ],
   "source": [
    "type(l)"
   ]
  },
  {
   "cell_type": "code",
   "execution_count": 3,
   "id": "bcf5d441-2e56-4e32-a700-52f23eb6a777",
   "metadata": {},
   "outputs": [],
   "source": [
    "a = []"
   ]
  },
  {
   "cell_type": "code",
   "execution_count": 4,
   "id": "5ab8562d-411d-4783-917f-69b2ba74273f",
   "metadata": {},
   "outputs": [
    {
     "data": {
      "text/plain": [
       "list"
      ]
     },
     "execution_count": 4,
     "metadata": {},
     "output_type": "execute_result"
    }
   ],
   "source": [
    "type(a)"
   ]
  },
  {
   "cell_type": "code",
   "execution_count": 15,
   "id": "8261df3d-8923-427e-8507-7c3e20019c82",
   "metadata": {},
   "outputs": [],
   "source": [
    "g = [1,56,98,\"Diya\",45.8,True,\"Aditya\",675]"
   ]
  },
  {
   "cell_type": "code",
   "execution_count": 16,
   "id": "881735b3-ef14-4663-9480-00a9c581344c",
   "metadata": {},
   "outputs": [
    {
     "data": {
      "text/plain": [
       "45.8"
      ]
     },
     "execution_count": 16,
     "metadata": {},
     "output_type": "execute_result"
    }
   ],
   "source": [
    "g[4]"
   ]
  },
  {
   "cell_type": "code",
   "execution_count": 17,
   "id": "6c2c0ef4-fd73-48f6-b459-a948ac2145e9",
   "metadata": {},
   "outputs": [
    {
     "data": {
      "text/plain": [
       "True"
      ]
     },
     "execution_count": 17,
     "metadata": {},
     "output_type": "execute_result"
    }
   ],
   "source": [
    "g[5]"
   ]
  },
  {
   "cell_type": "code",
   "execution_count": 18,
   "id": "92811562-f51d-4413-8964-aef7c298af5e",
   "metadata": {},
   "outputs": [
    {
     "data": {
      "text/plain": [
       "675"
      ]
     },
     "execution_count": 18,
     "metadata": {},
     "output_type": "execute_result"
    }
   ],
   "source": [
    "g[7]"
   ]
  },
  {
   "cell_type": "code",
   "execution_count": 19,
   "id": "bd4081dc-9609-45e2-bcf6-054091bdeccf",
   "metadata": {},
   "outputs": [
    {
     "data": {
      "text/plain": [
       "'Aditya'"
      ]
     },
     "execution_count": 19,
     "metadata": {},
     "output_type": "execute_result"
    }
   ],
   "source": [
    "g[6]"
   ]
  },
  {
   "cell_type": "code",
   "execution_count": 20,
   "id": "a7194940-a9cc-4cf7-81e4-0944b0f6adca",
   "metadata": {},
   "outputs": [
    {
     "data": {
      "text/plain": [
       "'Diya'"
      ]
     },
     "execution_count": 20,
     "metadata": {},
     "output_type": "execute_result"
    }
   ],
   "source": [
    "g[-5]"
   ]
  },
  {
   "cell_type": "code",
   "execution_count": 22,
   "id": "cfb3d535-5fd7-4a40-8941-625fa9efc6cc",
   "metadata": {},
   "outputs": [
    {
     "data": {
      "text/plain": [
       "float"
      ]
     },
     "execution_count": 22,
     "metadata": {},
     "output_type": "execute_result"
    }
   ],
   "source": [
    "type(g[4])"
   ]
  },
  {
   "cell_type": "code",
   "execution_count": 23,
   "id": "b36289d1-da8b-4e92-982a-9b0077d49e68",
   "metadata": {},
   "outputs": [
    {
     "data": {
      "text/plain": [
       "bool"
      ]
     },
     "execution_count": 23,
     "metadata": {},
     "output_type": "execute_result"
    }
   ],
   "source": [
    "type(g[5])"
   ]
  },
  {
   "cell_type": "code",
   "execution_count": null,
   "id": "351777d6-c494-4b9d-8e23-1071d207fdbe",
   "metadata": {},
   "outputs": [],
   "source": []
  }
 ],
 "metadata": {
  "kernelspec": {
   "display_name": "Python 3 (ipykernel)",
   "language": "python",
   "name": "python3"
  },
  "language_info": {
   "codemirror_mode": {
    "name": "ipython",
    "version": 3
   },
   "file_extension": ".py",
   "mimetype": "text/x-python",
   "name": "python",
   "nbconvert_exporter": "python",
   "pygments_lexer": "ipython3",
   "version": "3.12.4"
  }
 },
 "nbformat": 4,
 "nbformat_minor": 5
}
