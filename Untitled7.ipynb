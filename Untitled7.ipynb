{
 "cells": [
  {
   "cell_type": "markdown",
   "id": "eb4d4f5e-d7c8-468e-90aa-958b0cbb717d",
   "metadata": {},
   "source": [
    "s = \"this is My First Python programming class and i am learNING python string and its function\" 1 . Try to extract data from index one to index 300 with a jump of 3 2. Try to reverse a string without using reverse function 3. Try to split a string after conversion of entire string in uppercase 4. try to convert the whole string into lower case 5 . Try to capitalize the whole string 6 . Write a diference between isalnum() and isalpha() 7. Try to give an example of expand tab 8 . Give an example of strip , lstrip and rstrip 9. Replace a string charecter by another charector by taking your own example \"Your Name\" 10 . Try to give a defination of string center function with and exmple 11 . Write your own definition of compiler and interpretor without copy paste form internet in your own language 12 . Python is a interpreted of compiled language give a clear ans with your understanding 13 . Try to write a usecase of python with your understanding .="
   ]
  },
  {
   "cell_type": "code",
   "execution_count": 1,
   "id": "bf8e8805-aa95-495a-9ba0-ee708936e8da",
   "metadata": {},
   "outputs": [],
   "source": [
    "s = \"this is My First Python programming class and i am learNING python string and its function\" "
   ]
  },
  {
   "cell_type": "markdown",
   "id": "b55b4478-2ddf-4002-9f2b-02b0c047c677",
   "metadata": {},
   "source": [
    "1 . Try to extract data from index one to index 300 with a jump of 3 "
   ]
  },
  {
   "cell_type": "code",
   "execution_count": 3,
   "id": "d4f6fba5-a80f-4c1a-b3d9-9e41a1904911",
   "metadata": {},
   "outputs": [
    {
     "data": {
      "text/plain": [
       "'h   r tnrrmglsnimeNGyosi dtfco'"
      ]
     },
     "execution_count": 3,
     "metadata": {},
     "output_type": "execute_result"
    }
   ],
   "source": [
    "s[1:301:3]"
   ]
  },
  {
   "cell_type": "markdown",
   "id": "e8e40b73-0436-4704-aedc-762af79433f2",
   "metadata": {},
   "source": [
    "2. Try to reverse a string without using reverse function "
   ]
  },
  {
   "cell_type": "code",
   "execution_count": 6,
   "id": "9d1560b4-6077-449b-9e01-0859d3b6e96b",
   "metadata": {},
   "outputs": [
    {
     "data": {
      "text/plain": [
       "'noitcnuf sti dna gnirts nohtyp GNINrael ma i dna ssalc gnimmargorp nohtyP tsriF yM si siht'"
      ]
     },
     "execution_count": 6,
     "metadata": {},
     "output_type": "execute_result"
    }
   ],
   "source": [
    "s[: :-1]"
   ]
  },
  {
   "cell_type": "markdown",
   "id": "a4df4706-b146-4bd1-b676-ad4933d8767c",
   "metadata": {},
   "source": [
    "3. Try to split a string after conversion of entire string in uppercase"
   ]
  },
  {
   "cell_type": "code",
   "execution_count": 20,
   "id": "30e74df7-2950-4e71-b99a-c0571e3975d0",
   "metadata": {},
   "outputs": [
    {
     "data": {
      "text/plain": [
       "['THIS',\n",
       " 'IS',\n",
       " 'MY',\n",
       " 'FIRST',\n",
       " 'PYTHON',\n",
       " 'PROGRAMMING',\n",
       " 'CLASS',\n",
       " 'AND',\n",
       " 'I',\n",
       " 'AM',\n",
       " 'LEARNING',\n",
       " 'PYTHON',\n",
       " 'STRING',\n",
       " 'AND',\n",
       " 'ITS',\n",
       " 'FUNCTION']"
      ]
     },
     "execution_count": 20,
     "metadata": {},
     "output_type": "execute_result"
    }
   ],
   "source": [
    "s.upper().split()"
   ]
  },
  {
   "cell_type": "markdown",
   "id": "60aae716-c4fb-4911-9727-797cf4f593ef",
   "metadata": {},
   "source": [
    "4. try to convert the whole string into lower case "
   ]
  },
  {
   "cell_type": "code",
   "execution_count": 14,
   "id": "eaec7ecb-b337-46cd-ba90-623165e8e998",
   "metadata": {},
   "outputs": [
    {
     "data": {
      "text/plain": [
       "'this is my first python programming class and i am learning python string and its function'"
      ]
     },
     "execution_count": 14,
     "metadata": {},
     "output_type": "execute_result"
    }
   ],
   "source": [
    "s.lower()"
   ]
  },
  {
   "cell_type": "markdown",
   "id": "20ec7bf8-428e-4da1-99ea-eea78459bda1",
   "metadata": {},
   "source": [
    "5 . Try to capitalize the whole string"
   ]
  },
  {
   "cell_type": "code",
   "execution_count": 21,
   "id": "50aaf36c-cb88-4176-a295-e32c60661ddf",
   "metadata": {},
   "outputs": [
    {
     "data": {
      "text/plain": [
       "'This is my first python programming class and i am learning python string and its function'"
      ]
     },
     "execution_count": 21,
     "metadata": {},
     "output_type": "execute_result"
    }
   ],
   "source": [
    "s.capitalize()"
   ]
  },
  {
   "cell_type": "markdown",
   "id": "4010b3cd-747d-42e3-be21-8721db74d9d1",
   "metadata": {},
   "source": [
    "6 . Write a diference between isalnum() and isalpha()"
   ]
  },
  {
   "cell_type": "code",
   "execution_count": 18,
   "id": "fd08d448-42fb-4701-a20b-995e54b486f8",
   "metadata": {},
   "outputs": [
    {
     "data": {
      "text/plain": [
       "False"
      ]
     },
     "execution_count": 18,
     "metadata": {},
     "output_type": "execute_result"
    }
   ],
   "source": [
    "s.isalnum()"
   ]
  },
  {
   "cell_type": "code",
   "execution_count": 19,
   "id": "2fa3fea0-8651-4a17-a7ff-d831b7005b7b",
   "metadata": {},
   "outputs": [
    {
     "data": {
      "text/plain": [
       "False"
      ]
     },
     "execution_count": 19,
     "metadata": {},
     "output_type": "execute_result"
    }
   ],
   "source": [
    "s.isalpha()"
   ]
  },
  {
   "cell_type": "code",
   "execution_count": null,
   "id": "2274d95a-ba4f-4c85-aaf3-3aad5837388b",
   "metadata": {},
   "outputs": [],
   "source": [
    "the isalpha() method returns"
   ]
  },
  {
   "cell_type": "markdown",
   "id": "d3410b82-d411-40e6-a1b8-44c8fe19b6b3",
   "metadata": {},
   "source": [
    "8 . Give an example of strip , lstrip and rstrip"
   ]
  },
  {
   "cell_type": "code",
   "execution_count": 22,
   "id": "a35958ac-2eca-4ea2-957f-6a3b4b90775d",
   "metadata": {},
   "outputs": [],
   "source": [
    "a = \"       Vaibhavi       \""
   ]
  },
  {
   "cell_type": "code",
   "execution_count": 23,
   "id": "68c71c04-4a21-47d0-90f3-8ac26696ec10",
   "metadata": {},
   "outputs": [
    {
     "data": {
      "text/plain": [
       "'Vaibhavi'"
      ]
     },
     "execution_count": 23,
     "metadata": {},
     "output_type": "execute_result"
    }
   ],
   "source": [
    "a.strip()"
   ]
  },
  {
   "cell_type": "code",
   "execution_count": 24,
   "id": "d7597eee-6ce3-4c9a-bcd2-b6013e1d6f49",
   "metadata": {},
   "outputs": [
    {
     "data": {
      "text/plain": [
       "'Vaibhavi       '"
      ]
     },
     "execution_count": 24,
     "metadata": {},
     "output_type": "execute_result"
    }
   ],
   "source": [
    "a.lstrip()"
   ]
  },
  {
   "cell_type": "code",
   "execution_count": 25,
   "id": "64b56c22-4d96-4672-bd19-9a7b2c527578",
   "metadata": {},
   "outputs": [
    {
     "data": {
      "text/plain": [
       "'       Vaibhavi'"
      ]
     },
     "execution_count": 25,
     "metadata": {},
     "output_type": "execute_result"
    }
   ],
   "source": [
    "a.rstrip()"
   ]
  },
  {
   "cell_type": "markdown",
   "id": "63131af4-e91c-4c02-8113-a72171253681",
   "metadata": {},
   "source": [
    "9. Replace a string charecter by another charector by taking your own example \"Your Name\" "
   ]
  },
  {
   "cell_type": "code",
   "execution_count": 26,
   "id": "600a5cba-7af7-4857-8be3-0d1bb5610e7d",
   "metadata": {},
   "outputs": [],
   "source": [
    "b = \"Siddhi\""
   ]
  },
  {
   "cell_type": "code",
   "execution_count": 30,
   "id": "5e7493dd-6df4-4ba5-b4cc-ed3b5fbc0400",
   "metadata": {},
   "outputs": [
    {
     "data": {
      "text/plain": [
       "'Siddhi'"
      ]
     },
     "execution_count": 30,
     "metadata": {},
     "output_type": "execute_result"
    }
   ],
   "source": [
    "b"
   ]
  },
  {
   "cell_type": "markdown",
   "id": "7ff006f4-b2be-4e39-bc1d-d53694bcd375",
   "metadata": {},
   "source": [
    "10 . Try to give a defination of string center function with and example"
   ]
  },
  {
   "cell_type": "markdown",
   "id": "e737baab-cb21-494e-addb-2cec2fe11e6f",
   "metadata": {},
   "source": [
    "The center() method will center align the string, using a specified character (space is default) as the fill character.\n"
   ]
  },
  {
   "cell_type": "code",
   "execution_count": 35,
   "id": "74db04ef-c2fe-409c-9f04-a0a7200053b5",
   "metadata": {},
   "outputs": [],
   "source": [
    "v = \"Rohini\""
   ]
  },
  {
   "cell_type": "code",
   "execution_count": 36,
   "id": "785d070b-9b2c-4ef8-b8a4-3d3aa0b5076e",
   "metadata": {},
   "outputs": [
    {
     "data": {
      "text/plain": [
       "'Rohini'"
      ]
     },
     "execution_count": 36,
     "metadata": {},
     "output_type": "execute_result"
    }
   ],
   "source": [
    "v"
   ]
  },
  {
   "cell_type": "code",
   "execution_count": null,
   "id": "400212ff-9155-453c-b032-708374f8c681",
   "metadata": {},
   "outputs": [],
   "source": []
  }
 ],
 "metadata": {
  "kernelspec": {
   "display_name": "Python 3 (ipykernel)",
   "language": "python",
   "name": "python3"
  },
  "language_info": {
   "codemirror_mode": {
    "name": "ipython",
    "version": 3
   },
   "file_extension": ".py",
   "mimetype": "text/x-python",
   "name": "python",
   "nbconvert_exporter": "python",
   "pygments_lexer": "ipython3",
   "version": "3.12.4"
  }
 },
 "nbformat": 4,
 "nbformat_minor": 5
}
